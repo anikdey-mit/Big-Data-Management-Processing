{
 "cells": [
  {
   "cell_type": "markdown",
   "metadata": {},
   "source": [
    "<h1>Assignment_TaskC_Producer1</h1>"
   ]
  },
  {
   "cell_type": "code",
   "execution_count": null,
   "metadata": {},
   "outputs": [],
   "source": [
    "# import statements\n",
    "from time import sleep\n",
    "from json import dumps\n",
    "from kafka import KafkaProducer\n",
    "import random\n",
    "import datetime as dt\n",
    "import csv\n",
    "import pygeohash as gh\n",
    "\n",
    "def publish_message(producer_instance, topic_name, key, value):\n",
    "    try:\n",
    "        key_bytes = bytes(key, encoding='utf-8')\n",
    "        value_bytes = bytes(value, encoding='utf-8')\n",
    "        producer_instance.send(topic_name, key=key_bytes, value=value_bytes)\n",
    "        producer_instance.flush()\n",
    "        print('Message published successfully. Data: ' + str(data))\n",
    "    except Exception as ex:\n",
    "        print('Exception in publishing message.')\n",
    "        print(str(ex))\n",
    "        \n",
    "def connect_kafka_producer():\n",
    "    _producer = None\n",
    "    try:\n",
    "        _producer = KafkaProducer(bootstrap_servers=['localhost:9092'],\n",
    "                                  api_version=(0, 10))\n",
    "    except Exception as ex:\n",
    "        print('Exception while connecting Kafka.')\n",
    "        print(str(ex))\n",
    "    finally:\n",
    "        return _producer\n",
    "    \n",
    "if __name__ == '__main__':\n",
    "   \n",
    "    topic = 'climate'\n",
    "    \n",
    "    print('Publishing records..')\n",
    "    producer = connect_kafka_producer()\n",
    "    \n",
    "    with open ('climate_streaming.csv') as csv_file:\n",
    "        csv_reader= csv.reader(csv_file,delimiter=\",\")\n",
    "        next(csv_reader)\n",
    "        stream_data = []\n",
    "        for row in csv_reader:\n",
    "            stream_data.append(row)\n",
    "    \n",
    "    while True:\n",
    "        sender_id = 1\n",
    "        index = random.randint(0,len(stream_data)-1)  \n",
    "        \n",
    "        temp_data = stream_data[index][0]\n",
    "\n",
    "        geocode=gh.encode(float(stream_data[index][0]),float(stream_data[index][1]),precision=5)\n",
    "\n",
    "        for element in stream_data[index][1:]:\n",
    "            temp_data =temp_data+', '+ element\n",
    "        temp_data = temp_data+' , '+ geocode    \n",
    "            \n",
    "        data = str(sender_id)+\", \"+str(dt.datetime.now().strftime(\"%H:%M:%S\")) + ', ' + temp_data+ \", Climate\"\n",
    "\n",
    "        publish_message(producer, topic, 'parsed', data)\n",
    " \n",
    "        sleep(5)"
   ]
  },
  {
   "cell_type": "code",
   "execution_count": null,
   "metadata": {},
   "outputs": [],
   "source": []
  },
  {
   "cell_type": "code",
   "execution_count": null,
   "metadata": {},
   "outputs": [],
   "source": []
  }
 ],
 "metadata": {
  "kernelspec": {
   "display_name": "Python 3",
   "language": "python",
   "name": "python3"
  },
  "language_info": {
   "codemirror_mode": {
    "name": "ipython",
    "version": 3
   },
   "file_extension": ".py",
   "mimetype": "text/x-python",
   "name": "python",
   "nbconvert_exporter": "python",
   "pygments_lexer": "ipython3",
   "version": "3.5.2"
  }
 },
 "nbformat": 4,
 "nbformat_minor": 2
}
